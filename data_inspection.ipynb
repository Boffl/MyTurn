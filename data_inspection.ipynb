{
 "cells": [
  {
   "cell_type": "markdown",
   "id": "cd960080",
   "metadata": {},
   "source": [
    "## File Name Consistency"
   ]
  },
  {
   "cell_type": "code",
   "execution_count": 10,
   "id": "2bebb67c",
   "metadata": {},
   "outputs": [],
   "source": [
    "import os, re\n",
    "\n",
    "DATA_DIR = \"07_stimuli\"  # Directory with the audio files\n",
    "\n",
    "files = os.listdir(DATA_DIR)\n",
    "\n",
    "# rename the files (do only once...)\n",
    "# Filenaming convention: {position}_{speaker_id}_{turn}\n",
    "for filename in files:\n",
    "    if \"_group_\" in filename:\n",
    "        new_filename = re.sub(\"group_\", \"\", filename)\n",
    "        new_filename = re.sub(\"_booth_\", \"\", new_filename)\n",
    "        os.rename(os.path.join(DATA_DIR, filename), os.path.join(DATA_DIR, new_filename))\n"
   ]
  },
  {
   "cell_type": "markdown",
   "id": "f6bdfed5",
   "metadata": {},
   "source": [
    "## Checkout the Data"
   ]
  },
  {
   "cell_type": "code",
   "execution_count": 11,
   "id": "8724024d",
   "metadata": {},
   "outputs": [
    {
     "name": "stdout",
     "output_type": "stream",
     "text": [
      "Number of Sound Snipptes:  195\n",
      "Number of speakers:  8\n",
      "Speaker IDs:  {'25', '21', '31', '33', '32', '22', '24', '34'}\n"
     ]
    }
   ],
   "source": [
    "# Check the content\n",
    "speakers = set([filename.split(\"_\")[1] for filename in files])\n",
    "print(\"Number of Sound Snipptes: \", len(files))\n",
    "print(\"Number of speakers: \", len(speakers))\n",
    "print(\"Speaker IDs: \", speakers)"
   ]
  },
  {
   "cell_type": "markdown",
   "id": "9171b8c7",
   "metadata": {},
   "source": [
    "## Plot the Distribution of Speakers and Snippets"
   ]
  },
  {
   "cell_type": "code",
   "execution_count": 12,
   "id": "d5b7b945",
   "metadata": {},
   "outputs": [
    {
     "data": {
      "image/png": "[encoded data removed]",
      "text/plain": [
       "<Figure size 1000x600 with 1 Axes>"
      ]
     },
     "metadata": {},
     "output_type": "display_data"
    }
   ],
   "source": [
    "import pandas as pd\n",
    "from scripts.plot_utils import plot_speaker_distr\n",
    "\n",
    "# make an index of all the data we have\n",
    "index_df = pd.DataFrame(columns=[\"pos\", \"speaker\", \"turn\"])\n",
    "for file in files:\n",
    "    name = file.split(\".\")[0]\n",
    "    pos, speaker, turn = name.split(\"_\")\n",
    "    index_df.loc[len(index_df)] = [pos, speaker, turn]\n",
    "\n",
    "plot_speaker_distr(index_df)\n"
   ]
  },
  {
   "cell_type": "markdown",
   "id": "1ea33675",
   "metadata": {},
   "source": [
    "# Inspect the dataset of stimuli\n"
   ]
  },
  {
   "cell_type": "markdown",
   "id": "6eb3896d",
   "metadata": {},
   "source": [
    "## Combine the Snippets into pairs\n",
    "- Creating an Index for the stimuli we get.\n",
    "- Upsampling the target class (\"same\"), by including both orders"
   ]
  },
  {
   "cell_type": "code",
   "execution_count": 13,
   "id": "e3cb47f5",
   "metadata": {},
   "outputs": [],
   "source": [
    "from scripts.data_prep import generate_stimuli_index\n",
    "\n",
    "# Downsample to have for each position the same amount of data:\n",
    "min_count = index_df['pos'].value_counts().min()\n",
    "index_df = (\n",
    "    index_df.groupby('pos', group_keys=False)\n",
    "    .apply(lambda x: x.sample(n=min_count, random_state=42))\n",
    "    .reset_index(drop=True)\n",
    ")\n",
    "\n",
    "# Index the Stimuli\n",
    "beginning_stimuli_index = generate_stimuli_index(index_df, \"b\")\n",
    "middle_stimuli_index = generate_stimuli_index(index_df, \"m\")\n",
    "end_stimuli_index = generate_stimuli_index(index_df, \"e\")"
   ]
  },
  {
   "cell_type": "code",
   "execution_count": 15,
   "id": "164f29be",
   "metadata": {},
   "outputs": [
    {
     "name": "stdout",
     "output_type": "stream",
     "text": [
      "Position: Beginning\n",
      "condition\n",
      "different    1492\n",
      "same          438\n",
      "Name: speaker1, dtype: int64\n",
      "=================================\n",
      "Position: Middle\n",
      "condition\n",
      "different    1454\n",
      "same          514\n",
      "Name: speaker1, dtype: int64\n",
      "=================================\n",
      "Position: End\n",
      "condition\n",
      "different    1443\n",
      "same          536\n",
      "Name: speaker1, dtype: int64\n",
      "=================================\n"
     ]
    }
   ],
   "source": [
    "stimuli_dfs = [beginning_stimuli_index, middle_stimuli_index, end_stimuli_index]\n",
    "positions = [\"Beginning\", \"Middle\", \"End\"]\n",
    "\n",
    "for pos, df in zip(positions, stimuli_dfs):\n",
    "    print(f\"Position: {pos}\")\n",
    "    print(df.groupby(\"condition\").count()[\"speaker1\"])\n",
    "    print(\"=================================\")"
   ]
  },
  {
   "cell_type": "markdown",
   "id": "47281099",
   "metadata": {},
   "source": [
    "# Results"
   ]
  },
  {
   "cell_type": "code",
   "execution_count": null,
   "id": "dbe1caef",
   "metadata": {},
   "outputs": [],
   "source": [
    "# Apply this to DFs to make life easier :D\n",
    "def make_latex_table(df):\n",
    "    df = df.round(2).astype(str)\n",
    "    print(df.to_latex(index=False))"
   ]
  },
  {
   "cell_type": "code",
   "execution_count": 5,
   "id": "baf6fff3",
   "metadata": {},
   "outputs": [
    {
     "data": {
      "text/html": [
       "<div>\n",
       "<style scoped>\n",
       "    .dataframe tbody tr th:only-of-type {\n",
       "        vertical-align: middle;\n",
       "    }\n",
       "\n",
       "    .dataframe tbody tr th {\n",
       "        vertical-align: top;\n",
       "    }\n",
       "\n",
       "    .dataframe thead th {\n",
       "        text-align: right;\n",
       "    }\n",
       "</style>\n",
       "<table border=\"1\" class=\"dataframe\">\n",
       "  <thead>\n",
       "    <tr style=\"text-align: right;\">\n",
       "      <th></th>\n",
       "      <th>Unnamed: 0</th>\n",
       "      <th>precision</th>\n",
       "      <th>recall</th>\n",
       "      <th>f1-score</th>\n",
       "      <th>support</th>\n",
       "    </tr>\n",
       "  </thead>\n",
       "  <tbody>\n",
       "    <tr>\n",
       "      <th>0</th>\n",
       "      <td>different</td>\n",
       "      <td>0.891358</td>\n",
       "      <td>0.994303</td>\n",
       "      <td>0.940014</td>\n",
       "      <td>877.8</td>\n",
       "    </tr>\n",
       "    <tr>\n",
       "      <th>1</th>\n",
       "      <td>same</td>\n",
       "      <td>0.974678</td>\n",
       "      <td>0.642488</td>\n",
       "      <td>0.774335</td>\n",
       "      <td>297.6</td>\n",
       "    </tr>\n",
       "    <tr>\n",
       "      <th>2</th>\n",
       "      <td>macro avg</td>\n",
       "      <td>0.933018</td>\n",
       "      <td>0.818395</td>\n",
       "      <td>0.857174</td>\n",
       "      <td>1175.4</td>\n",
       "    </tr>\n",
       "    <tr>\n",
       "      <th>3</th>\n",
       "      <td>weighted avg</td>\n",
       "      <td>0.912454</td>\n",
       "      <td>0.905224</td>\n",
       "      <td>0.898064</td>\n",
       "      <td>1175.4</td>\n",
       "    </tr>\n",
       "  </tbody>\n",
       "</table>\n",
       "</div>"
      ],
      "text/plain": [
       "     Unnamed: 0  precision    recall  f1-score  support\n",
       "0     different   0.891358  0.994303  0.940014    877.8\n",
       "1          same   0.974678  0.642488  0.774335    297.6\n",
       "2     macro avg   0.933018  0.818395  0.857174   1175.4\n",
       "3  weighted avg   0.912454  0.905224  0.898064   1175.4"
      ]
     },
     "execution_count": 5,
     "metadata": {},
     "output_type": "execute_result"
    }
   ],
   "source": [
    "# results from the full dataset\n",
    "\n",
    "import pandas as pd\n",
    "\n",
    "results = pd.read_csv(\"results/allClasses_folds-5_False_pos-all.csv\")\n",
    "results_noise = pd.read_csv(\"results/allClasses_folds-5_noise-10_pos-all.csv\")\n",
    "results"
   ]
  },
  {
   "cell_type": "code",
   "execution_count": null,
   "id": "1574becd",
   "metadata": {},
   "outputs": [
    {
     "data": {
      "text/html": [
       "<div>\n",
       "<style scoped>\n",
       "    .dataframe tbody tr th:only-of-type {\n",
       "        vertical-align: middle;\n",
       "    }\n",
       "\n",
       "    .dataframe tbody tr th {\n",
       "        vertical-align: top;\n",
       "    }\n",
       "\n",
       "    .dataframe thead th {\n",
       "        text-align: right;\n",
       "    }\n",
       "</style>\n",
       "<table border=\"1\" class=\"dataframe\">\n",
       "  <thead>\n",
       "    <tr style=\"text-align: right;\">\n",
       "      <th></th>\n",
       "      <th>pos</th>\n",
       "      <th>precision</th>\n",
       "      <th>recall</th>\n",
       "      <th>f1-score</th>\n",
       "      <th>support</th>\n",
       "      <th>total</th>\n",
       "    </tr>\n",
       "  </thead>\n",
       "  <tbody>\n",
       "    <tr>\n",
       "      <th>0</th>\n",
       "      <td>b</td>\n",
       "      <td>0.978151</td>\n",
       "      <td>0.689446</td>\n",
       "      <td>0.807640</td>\n",
       "      <td>87.6</td>\n",
       "      <td>386.0</td>\n",
       "    </tr>\n",
       "    <tr>\n",
       "      <th>1</th>\n",
       "      <td>m</td>\n",
       "      <td>0.987837</td>\n",
       "      <td>0.791871</td>\n",
       "      <td>0.878567</td>\n",
       "      <td>102.8</td>\n",
       "      <td>393.6</td>\n",
       "    </tr>\n",
       "    <tr>\n",
       "      <th>2</th>\n",
       "      <td>e</td>\n",
       "      <td>1.000000</td>\n",
       "      <td>0.813413</td>\n",
       "      <td>0.897046</td>\n",
       "      <td>107.2</td>\n",
       "      <td>395.8</td>\n",
       "    </tr>\n",
       "  </tbody>\n",
       "</table>\n",
       "</div>"
      ],
      "text/plain": [
       "  pos  precision    recall  f1-score  support  total\n",
       "0   b   0.978151  0.689446  0.807640     87.6  386.0\n",
       "1   m   0.987837  0.791871  0.878567    102.8  393.6\n",
       "2   e   1.000000  0.813413  0.897046    107.2  395.8"
      ]
     },
     "execution_count": 1,
     "metadata": {},
     "output_type": "execute_result"
    }
   ],
   "source": [
    "# results in each subset of the data\n",
    "# summary is mean values for a table, pos_dfs is data for all folds for the graph\n",
    "\n",
    "from scripts.data_prep import create_pos_df_and_summary\n",
    "pos_dfs, summary_df = create_pos_df_and_summary(False)\n",
    "pos_dfs_noise, summary_df_noise = create_pos_df_and_summary(\"noise-10\")\n",
    "summary_df"
   ]
  },
  {
   "cell_type": "code",
   "execution_count": 7,
   "id": "8f265e5b",
   "metadata": {},
   "outputs": [
    {
     "data": {
      "text/plain": [
       "<Figure size 600x600 with 0 Axes>"
      ]
     },
     "metadata": {},
     "output_type": "display_data"
    },
    {
     "data": {
      "image/png": "[encoded data removed]",
      "text/plain": [
       "<Figure size 640x480 with 1 Axes>"
      ]
     },
     "metadata": {},
     "output_type": "display_data"
    }
   ],
   "source": [
    "from scripts.plot_utils import box_per_pos\n",
    "box_per_pos(pos_dfs)"
   ]
  },
  {
   "cell_type": "markdown",
   "id": "d6df4fe5",
   "metadata": {},
   "source": [
    "# Appendix"
   ]
  },
  {
   "cell_type": "code",
   "execution_count": null,
   "id": "6415441b",
   "metadata": {},
   "outputs": [
    {
     "name": "stdout",
     "output_type": "stream",
     "text": [
      "Requirement already satisfied: librosa in /home/niko/anaconda3/lib/python3.11/site-packages (0.11.0)\n",
      "Requirement already satisfied: numba in /home/niko/anaconda3/lib/python3.11/site-packages (0.57.1)\n",
      "Collecting numba\n",
      "  Downloading numba-0.61.2-cp311-cp311-manylinux2014_x86_64.manylinux_2_17_x86_64.whl.metadata (2.8 kB)\n",
      "Requirement already satisfied: numpy in /home/niko/anaconda3/lib/python3.11/site-packages (1.24.4)\n",
      "Collecting numpy\n",
      "  Downloading numpy-2.3.1-cp311-cp311-manylinux_2_28_x86_64.whl.metadata (62 kB)\n",
      "\u001b[2K     \u001b[90m━━━━━━━━━━━━━━━━━━━━━━━━━━━━━━━━━━━━━━━\u001b[0m \u001b[32m62.1/62.1 kB\u001b[0m \u001b[31m903.1 kB/s\u001b[0m eta \u001b[36m0:00:00\u001b[0m \u001b[36m0:00:01\u001b[0m\n",
      "\u001b[?25hRequirement already satisfied: lazy_loader in /home/niko/anaconda3/lib/python3.11/site-packages (0.2)\n",
      "Collecting lazy_loader\n",
      "  Downloading lazy_loader-0.4-py3-none-any.whl.metadata (7.6 kB)\n",
      "Requirement already satisfied: audioread>=2.1.9 in /home/niko/anaconda3/lib/python3.11/site-packages (from librosa) (3.0.1)\n",
      "Requirement already satisfied: scipy>=1.6.0 in /home/niko/anaconda3/lib/python3.11/site-packages (from librosa) (1.11.3)\n",
      "Requirement already satisfied: scikit-learn>=1.1.0 in /home/niko/anaconda3/lib/python3.11/site-packages (from librosa) (1.3.2)\n",
      "Requirement already satisfied: joblib>=1.0 in /home/niko/anaconda3/lib/python3.11/site-packages (from librosa) (1.3.2)\n",
      "Requirement already satisfied: decorator>=4.3.0 in /home/niko/anaconda3/lib/python3.11/site-packages (from librosa) (5.1.1)\n",
      "Requirement already satisfied: soundfile>=0.12.1 in /home/niko/anaconda3/lib/python3.11/site-packages (from librosa) (0.13.1)\n",
      "Requirement already satisfied: pooch>=1.1 in /home/niko/anaconda3/lib/python3.11/site-packages (from librosa) (1.8.2)\n",
      "Requirement already satisfied: soxr>=0.3.2 in /home/niko/anaconda3/lib/python3.11/site-packages (from librosa) (0.5.0.post1)\n",
      "Requirement already satisfied: typing_extensions>=4.1.1 in /home/niko/anaconda3/lib/python3.11/site-packages (from librosa) (4.12.2)\n",
      "Requirement already satisfied: msgpack>=1.0 in /home/niko/anaconda3/lib/python3.11/site-packages (from librosa) (1.0.3)\n",
      "Collecting llvmlite<0.45,>=0.44.0dev0 (from numba)\n",
      "  Downloading llvmlite-0.44.0-cp311-cp311-manylinux_2_17_x86_64.manylinux2014_x86_64.whl.metadata (4.8 kB)\n",
      "Collecting numpy\n",
      "  Downloading numpy-2.2.6-cp311-cp311-manylinux_2_17_x86_64.manylinux2014_x86_64.whl.metadata (62 kB)\n",
      "\u001b[2K     \u001b[90m━━━━━━━━━━━━━━━━━━━━━━━━━━━━━━━━━━━━━━━━\u001b[0m \u001b[32m62.0/62.0 kB\u001b[0m \u001b[31m1.4 MB/s\u001b[0m eta \u001b[36m0:00:00\u001b[0m00:01\u001b[0m\n",
      "\u001b[?25hRequirement already satisfied: packaging in /home/niko/anaconda3/lib/python3.11/site-packages (from lazy_loader) (23.1)\n",
      "Requirement already satisfied: platformdirs>=2.5.0 in /home/niko/anaconda3/lib/python3.11/site-packages (from pooch>=1.1->librosa) (3.10.0)\n",
      "Requirement already satisfied: requests>=2.19.0 in /home/niko/anaconda3/lib/python3.11/site-packages (from pooch>=1.1->librosa) (2.31.0)\n",
      "  Downloading numpy-1.26.4-cp311-cp311-manylinux_2_17_x86_64.manylinux2014_x86_64.whl.metadata (61 kB)\n",
      "\u001b[2K     \u001b[90m━━━━━━━━━━━━━━━━━━━━━━━━━━━━━━━━━━━━━━━━\u001b[0m \u001b[32m61.0/61.0 kB\u001b[0m \u001b[31m2.0 MB/s\u001b[0m eta \u001b[36m0:00:00\u001b[0m\n",
      "\u001b[?25hRequirement already satisfied: threadpoolctl>=2.0.0 in /home/niko/anaconda3/lib/python3.11/site-packages (from scikit-learn>=1.1.0->librosa) (3.2.0)\n",
      "Requirement already satisfied: cffi>=1.0 in /home/niko/anaconda3/lib/python3.11/site-packages (from soundfile>=0.12.1->librosa) (1.15.1)\n",
      "Requirement already satisfied: pycparser in /home/niko/anaconda3/lib/python3.11/site-packages (from cffi>=1.0->soundfile>=0.12.1->librosa) (2.21)\n",
      "Requirement already satisfied: charset-normalizer<4,>=2 in /home/niko/anaconda3/lib/python3.11/site-packages (from requests>=2.19.0->pooch>=1.1->librosa) (3.3.2)\n",
      "Requirement already satisfied: idna<4,>=2.5 in /home/niko/anaconda3/lib/python3.11/site-packages (from requests>=2.19.0->pooch>=1.1->librosa) (3.4)\n",
      "Requirement already satisfied: urllib3<3,>=1.21.1 in /home/niko/anaconda3/lib/python3.11/site-packages (from requests>=2.19.0->pooch>=1.1->librosa) (2.2.2)\n",
      "Requirement already satisfied: certifi>=2017.4.17 in /home/niko/anaconda3/lib/python3.11/site-packages (from requests>=2.19.0->pooch>=1.1->librosa) (2023.7.22)\n",
      "Downloading numba-0.61.2-cp311-cp311-manylinux2014_x86_64.manylinux_2_17_x86_64.whl (3.8 MB)\n",
      "\u001b[2K   \u001b[90m━━━━━━━━━━━━━━━━━━━━━━━━━━━━━━━━━━━━━━━━\u001b[0m \u001b[32m3.8/3.8 MB\u001b[0m \u001b[31m8.3 MB/s\u001b[0m eta \u001b[36m0:00:00\u001b[0m:00:01\u001b[0m0:01\u001b[0m\n",
      "\u001b[?25hDownloading lazy_loader-0.4-py3-none-any.whl (12 kB)\n",
      "Downloading llvmlite-0.44.0-cp311-cp311-manylinux_2_17_x86_64.manylinux2014_x86_64.whl (42.4 MB)\n",
      "\u001b[2K   \u001b[90m━━━━━━━━━━━━━━━━━━━━━━━━━━━━━━━━━━━━━━━━\u001b[0m \u001b[32m42.4/42.4 MB\u001b[0m \u001b[31m1.8 MB/s\u001b[0m eta \u001b[36m0:00:00\u001b[0m00:01\u001b[0m00:01\u001b[0mm\n",
      "\u001b[?25hDownloading numpy-1.26.4-cp311-cp311-manylinux_2_17_x86_64.manylinux2014_x86_64.whl (18.3 MB)\n",
      "\u001b[2K   \u001b[90m━━━━━━━━━━━━━━━━━━━━━━━━━━━━━━━━━━━━━━━━\u001b[0m \u001b[32m18.3/18.3 MB\u001b[0m \u001b[31m2.6 MB/s\u001b[0m eta \u001b[36m0:00:00\u001b[0m00:01\u001b[0m00:01\u001b[0m\n",
      "\u001b[?25hInstalling collected packages: numpy, llvmlite, lazy_loader, numba\n",
      "  Attempting uninstall: numpy\n",
      "    Found existing installation: numpy 1.24.4\n",
      "    Uninstalling numpy-1.24.4:\n",
      "      Successfully uninstalled numpy-1.24.4\n",
      "  Attempting uninstall: llvmlite\n",
      "    Found existing installation: llvmlite 0.40.0\n",
      "    Uninstalling llvmlite-0.40.0:\n",
      "      Successfully uninstalled llvmlite-0.40.0\n",
      "  Attempting uninstall: lazy_loader\n",
      "    Found existing installation: lazy_loader 0.2\n",
      "    Uninstalling lazy_loader-0.2:\n",
      "      Successfully uninstalled lazy_loader-0.2\n",
      "  Attempting uninstall: numba\n",
      "    Found existing installation: numba 0.57.1\n",
      "    Uninstalling numba-0.57.1:\n",
      "      Successfully uninstalled numba-0.57.1\n",
      "\u001b[31mERROR: pip's dependency resolver does not currently take into account all the packages that are installed. This behaviour is the source of the following dependency conflicts.\n",
      "tables 3.8.0 requires blosc2~=2.0.0, which is not installed.\n",
      "tables 3.8.0 requires cython>=0.29.21, which is not installed.\n",
      "gensim 4.3.0 requires FuzzyTM>=0.4.0, which is not installed.\n",
      "transformers 4.32.1 requires huggingface-hub<1.0,>=0.15.1, but you have huggingface-hub 0.0.19 which is incompatible.\n",
      "gradio 4.29.0 requires huggingface-hub>=0.19.3, but you have huggingface-hub 0.0.19 which is incompatible.\n",
      "gradio 4.29.0 requires typer<1.0,>=0.12; sys_platform != \"emscripten\", but you have typer 0.9.4 which is incompatible.\n",
      "evaluate 0.4.2 requires datasets>=2.0.0, but you have datasets 1.9.0 which is incompatible.\n",
      "evaluate 0.4.2 requires huggingface-hub>=0.7.0, but you have huggingface-hub 0.0.19 which is incompatible.\u001b[0m\u001b[31m\n",
      "\u001b[0mSuccessfully installed lazy_loader-0.4 llvmlite-0.44.0 numba-0.61.2 numpy-1.26.4\n",
      "\n",
      "\u001b[1m[\u001b[0m\u001b[34;49mnotice\u001b[0m\u001b[1;39;49m]\u001b[0m\u001b[39;49m A new release of pip is available: \u001b[0m\u001b[31;49m24.0\u001b[0m\u001b[39;49m -> \u001b[0m\u001b[32;49m25.1.1\u001b[0m\n",
      "\u001b[1m[\u001b[0m\u001b[34;49mnotice\u001b[0m\u001b[1;39;49m]\u001b[0m\u001b[39;49m To update, run: \u001b[0m\u001b[32;49mpip install --upgrade pip\u001b[0m\n",
      "Note: you may need to restart the kernel to use updated packages.\n"
     ]
    }
   ],
   "source": [
    "# might need this later, for dependency problems\n",
    "%pip install --upgrade librosa numba numpy lazy_loader\n",
    "\n"
   ]
  }
 ],
 "metadata": {
  "kernelspec": {
   "display_name": "base",
   "language": "python",
   "name": "python3"
  },
  "language_info": {
   "codemirror_mode": {
    "name": "ipython",
    "version": 3
   },
   "file_extension": ".py",
   "mimetype": "text/x-python",
   "name": "python",
   "nbconvert_exporter": "python",
   "pygments_lexer": "ipython3",
   "version": "3.11.5"
  }
 },
 "nbformat": 4,
 "nbformat_minor": 5
}
